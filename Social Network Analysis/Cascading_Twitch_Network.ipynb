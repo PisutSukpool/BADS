{
  "nbformat": 4,
  "nbformat_minor": 0,
  "metadata": {
    "kernelspec": {
      "display_name": "Python 3",
      "language": "python",
      "name": "python3"
    },
    "language_info": {
      "codemirror_mode": {
        "name": "ipython",
        "version": 3
      },
      "file_extension": ".py",
      "mimetype": "text/x-python",
      "name": "python",
      "nbconvert_exporter": "python",
      "pygments_lexer": "ipython3",
      "version": "3.7.5"
    },
    "colab": {
      "name": "Cascading_Twitch_Network.ipynb",
      "provenance": [],
      "include_colab_link": true
    }
  },
  "cells": [
    {
      "cell_type": "markdown",
      "metadata": {
        "id": "view-in-github",
        "colab_type": "text"
      },
      "source": [
        "<a href=\"https://colab.research.google.com/github/PisutSukpool/BADS/blob/main/Social%20Network%20Analysis/Cascading_Twitch_Network.ipynb\" target=\"_parent\"><img src=\"https://colab.research.google.com/assets/colab-badge.svg\" alt=\"Open In Colab\"/></a>"
      ]
    },
    {
      "cell_type": "markdown",
      "metadata": {
        "id": "kv7GfqLhgiim"
      },
      "source": [
        "Prep Data"
      ]
    },
    {
      "cell_type": "code",
      "metadata": {
        "id": "mEKEM4qNgii2"
      },
      "source": [
        "#After Processing Community Detection and PageRank\n",
        "import networkx as nx\n",
        "import pandas as pd\n",
        "import copy\n",
        "import itertools\n",
        "#Create Datafram of Nodes and Edges\n",
        "df_node = pd.read_csv('https://github.com/PisutSukpool/BADS/raw/main/Social%20Network%20Analysis/Node_Community_2%2BPageRank.csv')  \n",
        "df_edge = pd.read_csv('https://github.com/PisutSukpool/BADS/raw/main/Social%20Network%20Analysis/Edge_Community_2.csv')  \n",
        "df_node_cl = df_node[['Id','Label','Interest','pageranks','clustering','betweenesscentrality']]"
      ],
      "execution_count": 1,
      "outputs": []
    },
    {
      "cell_type": "code",
      "metadata": {
        "colab": {
          "base_uri": "https://localhost:8080/"
        },
        "id": "5WEQ9nangii4",
        "outputId": "5ceddf4e-452d-4dc8-bc1f-8dde5590c9ac"
      },
      "source": [
        "#Create Edge , Nodes and Reset Data\n",
        "G = nx.from_pandas_edgelist(df_edge,source='Source',\n",
        "                                   target='Target',edge_attr=True,\n",
        "                                   create_using=nx.Graph())\n",
        "print('Edges:',G.number_of_edges(),'  Nodes:',G.number_of_nodes())\n",
        "\n",
        "#Iterate over df rows and set the source and target nodes' attributes for each row:\n",
        "for index, row in df_node_cl.iterrows():\n",
        "    G.nodes[row['Id']]['Label'] = row['Label']\n",
        "    G.nodes[row['Id']]['Interest'] = row['Interest']\n",
        "    G.nodes[row['Id']]['pageranks'] = round(row['pageranks'],10)\n",
        "    G.nodes[row['Id']]['clustering'] = round(row['clustering'],10)\n",
        "    G.nodes[row['Id']]['betweenesscentrality'] = round(row['betweenesscentrality'],10)\n",
        "    \n",
        "def set_and_refresh():\n",
        "    global G\n",
        "    global df_edge\n",
        "    global df_node_cl\n",
        "    G = nx.from_pandas_edgelist(df_edge,source='Source',\n",
        "                                       target='Target',edge_attr=True,\n",
        "                                       create_using=nx.Graph())\n",
        "    #print('Edges:',G.number_of_edges(),'  Nodes:',G.number_of_nodes())\n",
        "\n",
        "    #Iterate over df rows and set the source and target nodes' attributes for each row:\n",
        "    for index, row in df_node_cl.iterrows():\n",
        "        G.nodes[row['Id']]['Label'] = row['Label']\n",
        "        G.nodes[row['Id']]['Interest'] = row['Interest']\n",
        "        G.nodes[row['Id']]['pageranks'] = round(row['pageranks'],10)\n",
        "        G.nodes[row['Id']]['clustering'] = round(row['clustering'],10)\n",
        "        G.nodes[row['Id']]['betweenesscentrality'] = round(row['betweenesscentrality'],10)\n",
        "    #print('<<<Complete Refresh Network>>')    "
      ],
      "execution_count": 2,
      "outputs": [
        {
          "output_type": "stream",
          "text": [
            "Edges: 12778   Nodes: 6958\n"
          ],
          "name": "stdout"
        }
      ]
    },
    {
      "cell_type": "code",
      "metadata": {
        "id": "qWb8-s9Ygii6"
      },
      "source": [
        "#Export Network Data to visual in Gephi\n",
        "def export_to_csv(csv_name):\n",
        "    global G\n",
        "    data={}\n",
        "    data['Id']=[x[0] for x in G.nodes(data=True)]\n",
        "    data['Label'] = [x[1]['Label'] for x in G.nodes(data=True)]\n",
        "    data['Interest'] = [x[1]['Interest'] for x in G.nodes(data=True)]\n",
        "    data['pageranks'] = [x[1]['pageranks'] for x in G.nodes(data=True)]\n",
        "    data['clustering'] = [x[1]['clustering'] for x in G.nodes(data=True)]\n",
        "    data['betweenesscentrality'] = [x[1]['betweenesscentrality'] for x in G.nodes(data=True)]\n",
        "    df_node_export = pd.DataFrame(data)\n",
        "    df_node_export.to_csv(csv_name+'.csv',index=False)\n",
        "    print('<<Complete Export Network>>')"
      ],
      "execution_count": 21,
      "outputs": []
    },
    {
      "cell_type": "code",
      "metadata": {
        "id": "8IKnTGqhgii8"
      },
      "source": [
        "#Export set of adopted node to visual in Excel\n",
        "def export_set_adopted_node(time,csv_name):\n",
        "    if time == 'one':\n",
        "        df_adopted_onetime_stg.to_csv(csv_name+'.csv', index=False)\n",
        "    elif time == 'converge':\n",
        "        df_adopted_converge_stg.to_csv(csv_name+'.csv', index=False)\n",
        "    print('Finish export_set_adopted_node')"
      ],
      "execution_count": 15,
      "outputs": []
    },
    {
      "cell_type": "code",
      "metadata": {
        "colab": {
          "base_uri": "https://localhost:8080/"
        },
        "id": "MmR-mtT1gii9",
        "outputId": "ecdbb910-bafb-4036-8cf6-c71fa5b02042"
      },
      "source": [
        "#Select Top 5 PageRanks and Create Superset of that users\n",
        "num_top = int(input('Enter Number of Top PageRanks : '))\n",
        "user=[row['Id'] for index,row in df_node_cl.iterrows() if row['Label'] < num_top+1]\n",
        "print('User Top 5 PageRanks :',user)\n",
        "lst_set=[list(itertools.combinations(user, i)) for i in range(1, len(user)+1)]  #Create Superset of user\n",
        "print('Superset of Top 5 PageRanks :',lst_set)"
      ],
      "execution_count": 24,
      "outputs": [
        {
          "output_type": "stream",
          "text": [
            "Enter Number of Top PageRanks : 2\n",
            "User Top 5 PageRanks : ['alicetvz', 'znebtv']\n",
            "Superset of Top 5 PageRanks : [[('alicetvz',), ('znebtv',)], [('alicetvz', 'znebtv')]]\n"
          ],
          "name": "stdout"
        }
      ]
    },
    {
      "cell_type": "markdown",
      "metadata": {
        "id": "hWXvam_Hgii_"
      },
      "source": [
        "Start Cascading"
      ]
    },
    {
      "cell_type": "code",
      "metadata": {
        "id": "5_pH229kgijB"
      },
      "source": [
        "#Initial Viral Top 5 Nodes by PageRanks\n",
        "def begin_viral(game_adopted):\n",
        "    global G\n",
        "    for v in user:\n",
        "        G.nodes(data=True)[v]['Interest'] = game_adopted\n",
        "        print('     User :',v,' Adopted')"
      ],
      "execution_count": 17,
      "outputs": []
    },
    {
      "cell_type": "code",
      "metadata": {
        "id": "MBLkKZNOgijC"
      },
      "source": [
        "#Cascading One Time\n",
        "def viral_onetime(seed,original,game_adopted):\n",
        "        global G\n",
        "        global df_adopted_onetime_stg\n",
        "        jst_adopt = list(seed)\n",
        "        adopted = copy.deepcopy(jst_adopt)                                                  \n",
        "        tmp=[]\n",
        "        for v in jst_adopt: #node is seed\n",
        "            G.nodes(data=True)[v]['Interest'] = game_adopted #change game\n",
        "            for nb in G.neighbors(v): # neighbors of node\n",
        "                nb_adopted=0\n",
        "                nb_noadopted=0\n",
        "                if len([n for n in G.neighbors(nb) if n != v]) > 0 : # check neighbor has other neighbors\n",
        "                    for nb2 in G.neighbors(nb):  #neighbors of neighbor   \n",
        "                        if G.nodes(data=True)[nb]['Interest'] == game_adopted: # ถ้า nb adopted อยู่แล้วไม่ต้องลูปต่อ\n",
        "                            nb_adopted+=1\n",
        "                        else:\n",
        "                            for attr in G.nodes(data=True)[nb2]: #attribute neighbors\n",
        "                                if attr=='Interest':\n",
        "                                    if G.nodes(data=True)[nb2][attr] == original:\n",
        "                                        nb_noadopted+=1\n",
        "                                    else:\n",
        "                                        nb_adopted+=1  \n",
        "                else:\n",
        "                    nb_adopted+=1 #nb no neighbors\n",
        "                if nb_adopted+nb_noadopted != 0:\n",
        "                    threshold = nb_noadopted/(nb_adopted+nb_noadopted)\n",
        "                    q=threshold\n",
        "                    p=1-q\n",
        "                    if p>q and nb not in adopted and nb not in tmp:\n",
        "                        tmp.append(nb)\n",
        "                        G.nodes(data=True)[nb]['Interest'] = game_adopted #Adopted!!!!!!  str(\n",
        "        for v in tmp:\n",
        "            adopted.append(v)\n",
        "        df_adopted_onetime_stg = pd.concat([df_adopted_onetime_stg,pd.DataFrame([{'set_of_nodes':seed\n",
        "                                                                            ,'number_of_iteration':1\n",
        "                                                                            ,'number_of_adopted_nodes':len(adopted)}])],axis=0)\n",
        "        return len(adopted)"
      ],
      "execution_count": 18,
      "outputs": []
    },
    {
      "cell_type": "code",
      "metadata": {
        "id": "m80cO3C7gijE"
      },
      "source": [
        "#Cascading Until Converge\n",
        "    #G --> Network\n",
        "    #seed --> List of Node Begin Viral\n",
        "    #original --> Old genre of game\n",
        "    #game_adopted --> Game which we want to viral\n",
        "def viral_converge(seed,original,game_adopted):\n",
        "        global G\n",
        "        global df_adopted_converge_stg    \n",
        "        #jst_adopt --> List of Nodes that just adopt\n",
        "        #adopted --> List of All nodes that adopt\n",
        "        #num_iter_adopted --> Number of Iteration\n",
        "        jst_adopt = list(seed)\n",
        "        adopted = copy.deepcopy(jst_adopt)\n",
        "        num_iter_adopted = 0 \n",
        "        while(1):\n",
        "            if len(jst_adopt)==0:\n",
        "                return num_iter_adopted, len(adopted) ,df_adopted_converge_stg\n",
        "            tmp=[]\n",
        "            for v in jst_adopt: #Initial Node\n",
        "                G.nodes(data=True)[v]['Interest'] = game_adopted #Node begin viral\n",
        "                for nb in G.neighbors(v): # Neighbors of Nodes\n",
        "                    nb_adopted=0\n",
        "                    nb_noadopted=0\n",
        "                    if len([n for n in G.neighbors(nb) if n != v]) > 0 : # check neighbor has other neighbors\n",
        "                        for nb2 in G.neighbors(nb):  #neighbors of neighbor   \n",
        "                            if G.nodes(data=True)[nb]['Interest'] == game_adopted: # if neighbors of nb adopted \n",
        "                                nb_adopted+=1\n",
        "                            else:\n",
        "                                for attr in G.nodes(data=True)[nb2]: #attribute neighbors\n",
        "                                    if attr=='Interest':\n",
        "                                        if G.nodes(data=True)[nb2][attr] == original:\n",
        "                                            nb_noadopted+=1\n",
        "                                        else:\n",
        "                                            nb_adopted+=1  \n",
        "                    else:\n",
        "                        nb_adopted+=1 \n",
        "                    if nb_adopted+nb_noadopted != 0:\n",
        "                        threshold = nb_noadopted/(nb_adopted+nb_noadopted)  #Set Payoff Threshold\n",
        "                        q=threshold\n",
        "                        p=1-q\n",
        "                        if p>q and nb not in adopted and nb not in tmp: # Adopted Condition\n",
        "                            tmp.append(nb)\n",
        "                            G.nodes(data=True)[nb]['Interest'] = game_adopted #Adopted!!!!!!\n",
        "            for v in tmp:\n",
        "                adopted.append(v)\n",
        "            jst_adopt=tmp #Bring New Adopted Node to spread again\n",
        "            if len(jst_adopt) != 0 :\n",
        "                num_iter_adopted+=1\n",
        "                df_adopted_converge_stg = pd.concat([df_adopted_converge_stg,pd.DataFrame([{'set_of_nodes':seed\n",
        "                                                                            ,'number_of_iteration':num_iter_adopted\n",
        "                                                                            ,'number_of_adopted_nodes':len(adopted)}])])\n",
        "                print('seed: ',seed,'iter:',num_iter_adopted,' cum_adopted: ',len(adopted))"
      ],
      "execution_count": 19,
      "outputs": []
    },
    {
      "cell_type": "code",
      "metadata": {
        "colab": {
          "base_uri": "https://localhost:8080/"
        },
        "id": "x8D2aZQrgijG",
        "outputId": "e145ba2e-be70-4cd7-c2be-c9f8c001668c"
      },
      "source": [
        "#Execute Cascading\n",
        "game_adopted = str(input('Enter the game which want to viral : ')) #'Among Us'\n",
        "how_spread = int(input('Enter How Spread (Begin Viral : 1 | Spread One : 2 | Spread Converge : 3): ')) # 1,2,3\n",
        "\n",
        "if how_spread == 1:    \n",
        "    begin_viral(game_adopted)\n",
        "    export_to_csv('Gephi_Begin_Viral_Nodes') \n",
        "    set_and_refresh()\n",
        "    \n",
        "elif how_spread == 2:\n",
        "    df_adopted_onetime_stg = pd.DataFrame()\n",
        "    for major in lst_set:\n",
        "        for minor in major:\n",
        "            viral_onetime(minor,'Survival',game_adopted)\n",
        "            set_and_refresh()\n",
        "    export_to_csv('Gephi_Spread_Onetime_Nodes')\n",
        "    export_set_adopted_node('one','One_Set_Adopted_Nodes')\n",
        "    set_and_refresh()\n",
        "    \n",
        "elif how_spread == 3:\n",
        "    df_adopted_converge_stg = pd.DataFrame()\n",
        "    for major in lst_set:\n",
        "        for minor in major:    \n",
        "            viral_converge(minor,'Survival',game_adopted) \n",
        "            set_and_refresh() \n",
        "    export_to_csv('Gephi_Spread_Converge_Nodes') \n",
        "    export_set_adopted_node('converge','Converge_Set_Adopted_Nodes')\n",
        "    set_and_refresh()    \n",
        "    \n",
        "else:\n",
        "    print('Input type of how_spread agin!')"
      ],
      "execution_count": 25,
      "outputs": [
        {
          "output_type": "stream",
          "text": [
            "Enter the game which want to viral : Among Us\n",
            "Enter How Spread (Begin Viral : 1 | Spread One : 2 | Spread Converge : 3): 3\n",
            "seed:  ('alicetvz',) iter: 1  cum_adopted:  1919\n",
            "seed:  ('znebtv',) iter: 1  cum_adopted:  558\n",
            "seed:  ('alicetvz', 'znebtv') iter: 1  cum_adopted:  3217\n",
            "seed:  ('alicetvz', 'znebtv') iter: 2  cum_adopted:  3220\n",
            "<<Complete Export Network>>\n",
            "Finish export_set_adopted_node\n"
          ],
          "name": "stdout"
        }
      ]
    }
  ]
}